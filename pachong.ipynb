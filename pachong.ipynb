{
 "cells": [
  {
   "cell_type": "code",
   "execution_count": null,
   "id": "initial_id",
   "metadata": {
    "collapsed": true,
    "is_executing": true
   },
   "outputs": [],
   "source": [
    "import urllib.request\n",
    "from urllib.parse import urljoin\n",
    "from bs4 import BeautifulSoup\n",
    "\n",
    "# 读取URL的HTML代码，输入 URL，输出 html\n",
    "response = urllib.request.urlopen('https://news.hueb.edu.cn/info/1014/18880.htm')\n",
    "# print(response.read().decode('utf-8'))\n",
    "content = response.read().decode('utf-8')\n",
    "\n",
    "# 解析\n",
    "soup = BeautifulSoup(content, 'html.parser', from_encoding='utf-8')\n",
    "Pages = soup.find_all('a', {'class': \"Next\"})\n",
    "endPage = Pages[1].get(\"href\")\n",
    "# print(endPage)\n",
    "# 用来判断第一次的基础母站路径\n",
    "i = 1\n",
    "while Pages[0].get(\"href\") != Pages[1].get(\"href\"):\n",
    "\t# while 循环之外我们已经读取到了首页的新闻内容，直接开始分析\n",
    "    divs = soup.find_all('div', {'class': \"list-main-warp\"})\n",
    "    lis = divs[0].find_all('li')\n",
    "\n",
    "\t# 开始写入\n",
    "\t# 需要注意，写入的方式是追加 'a+'\n",
    "\t# 因为每读一页都会向文件中写入一次，如果还使用之前的 w 写入方式，\n",
    "\t# 就会导致上一页的内容被当前页的内容覆盖，这样最后，文件里就被覆盖的只有最后一页的新闻标题与链接\n",
    "    with open('urlList.txt', 'a+', encoding='utf8') as fp:\n",
    "        for li in lis:\n",
    "            url1 = \"https://news.hueb.edu.cn/xywh.htm\"\n",
    "            url2 = li.find_all('a')[0].get(\"href\")\n",
    "            # 使用urllib的urljoin()拼接两个地址\n",
    "            # urljoin的第一个参数是基础母站的url, 第二个是需要拼接成绝对路径的url\n",
    "            # 利用urljoin，我们可以将爬取的url的相对路径拼接成绝对路径\n",
    "            url = urljoin(url1, url2)\n",
    "            title = li.find_all('a')[0].get(\"title\")\n",
    "            fp.write(url + \",\" + title + '\\n')\n",
    "\t\n",
    "\t# 判断是否是第一次跳转下一页\n",
    "    if i == 1:\n",
    "        # 设置基础母站路径\n",
    "        url1 = \"https://www.hist.edu.cn/index/sy/\"\n",
    "        i = i+1\n",
    "    else:\n",
    "    \t# 设置基础母站路径\n",
    "        url1 = \"https://www.hist.edu.cn/index/sy/kyyw/\"\n",
    "    # 获取下一页链接\n",
    "    url2 = Pages[0].get(\"href\")\n",
    "    # 拼接路径\n",
    "    url = urljoin(url1, url2)\n",
    "    # 用于提示爬到哪一页了\n",
    "    print(url)\n",
    "    # 读取下一页的内容\n",
    "    response = urllib.request.urlopen(url)\n",
    "    content = response.read().decode('utf-8')\n",
    "\n",
    "    # 解析下一页的内容，同时将soup指向为下一页的内容\n",
    "    soup = BeautifulSoup(content, 'html.parser', from_encoding='utf-8')\n",
    "    Pages = soup.find_all('a', {'class': \"Next\"})\n"
   ]
  },
  {
   "cell_type": "code",
   "execution_count": null,
   "outputs": [],
   "source": [
    "import urllib.request\n",
    "from bs4 import BeautifulSoup\n",
    "\n",
    "# 读取给定 url 的 html 代码\n",
    "response = urllib.request.urlopen('https://www.hist.edu.cn/index/sy/kyyw.htm')\n",
    "content = response.read().decode('utf-8')\n",
    "\n",
    "# 转换读取到的 html 文档\n",
    "soup = BeautifulSoup(content, 'html.parser', from_encoding='utf-8')\n",
    "# 获取转换后的 html 文档里属性 class=list-main-warp 的 div 标签的内容\n",
    "divs = soup.find_all('div', {'class': \"list-main-warp\"})\n",
    "# 从已获取的 div 标签的内容里获取 li 标签的内容\n",
    "lis = divs[0].find_all('li')\n",
    "# 遍历获取到的 lis 列表，并从中抓取链接和标题\n",
    "for li in lis:\n",
    "    print(li.find_all('a')[0].get(\"href\"))\n",
    "    print(li.find_all('a')[0].get(\"title\"))\n"
   ],
   "metadata": {
    "collapsed": false,
    "is_executing": true
   },
   "id": "7fd4e4b4a2edc7ad"
  },
  {
   "cell_type": "code",
   "execution_count": null,
   "outputs": [],
   "source": [],
   "metadata": {
    "collapsed": false
   },
   "id": "32c39d4422fe86c2"
  }
 ],
 "metadata": {
  "kernelspec": {
   "display_name": "Python 3",
   "language": "python",
   "name": "python3"
  },
  "language_info": {
   "codemirror_mode": {
    "name": "ipython",
    "version": 2
   },
   "file_extension": ".py",
   "mimetype": "text/x-python",
   "name": "python",
   "nbconvert_exporter": "python",
   "pygments_lexer": "ipython2",
   "version": "2.7.6"
  }
 },
 "nbformat": 4,
 "nbformat_minor": 5
}
