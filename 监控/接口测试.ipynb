{
 "cells": [
  {
   "cell_type": "code",
   "id": "initial_id",
   "metadata": {
    "collapsed": true,
    "ExecuteTime": {
     "end_time": "2024-12-12T08:11:51.184754Z",
     "start_time": "2024-12-12T08:11:50.935836Z"
    }
   },
   "source": [
    "import requests \n",
    "url = \"https://restapi.amap.com/v3/place/around\"\n",
    "params ={\n",
    "    'key': 'db5e029572092f4ca86e3a2b22dab6cf',\n",
    "    'location': '114.46104,38.00407',\n",
    "    'radius': 500,\n",
    "    'offset': 500,\n",
    "    'page': 1\n",
    "}\n",
    "response = requests.get(url, params=params)\n",
    "data = response.json()\n",
    "result = [{'name':poi['name'],'location':poi['location']} for poi in data['pois']]\n",
    "print(result)"
   ],
   "outputs": [
    {
     "name": "stdout",
     "output_type": "stream",
     "text": [
      "[{'name': '东五里铁路宿舍', 'location': '114.461974,38.003820'}, {'name': '利航观棠营销中心', 'location': '114.459820,38.003596'}, {'name': '利航·观棠', 'location': '114.461396,38.002988'}, {'name': '中诺药业有限公司宿舍', 'location': '114.462893,38.003803'}, {'name': '肥肥串老二(红旗店)', 'location': '114.458890,38.004048'}, {'name': '喜乐酒馆(民谣酒吧)', 'location': '114.459812,38.005464'}, {'name': '冒椒婆婆串串香', 'location': '114.459833,38.005546'}, {'name': '七叔公潮汕牛肉火锅(红旗大街店)', 'location': '114.458806,38.004081'}, {'name': '大叔烤肉厂', 'location': '114.458791,38.004193'}, {'name': '冀成餐饮', 'location': '114.458786,38.004185'}, {'name': '丰巢柜2号柜', 'location': '114.458776,38.004112'}, {'name': '悦辰养生会所(木桶浴·泡泡浴·影院式足道)', 'location': '114.458721,38.004162'}, {'name': '手撕罩饼', 'location': '114.458599,38.004206'}, {'name': '农情暖域工会驿站中国农业银行红旗南大街支行', 'location': '114.459783,38.005862'}, {'name': '菜鸟驿站(汇锦路店)', 'location': '114.461120,38.002010'}, {'name': '中国电信红旗大街营业厅', 'location': '114.459777,38.005920'}, {'name': '侯氏火锅(汇华店)', 'location': '114.459832,38.006037'}, {'name': '中国电信(汇华广场营业厅)', 'location': '114.459799,38.006046'}, {'name': '桃小妹冒烤鸭(汇华广场店)', 'location': '114.459801,38.006089'}, {'name': '甜啦啦鲜果茶(汇华广场店)', 'location': '114.459821,38.006131'}, {'name': '菜鸟驿站(河北师范大学汇华学院店)', 'location': '114.461709,38.006301'}, {'name': '河北国控人力留学服务中心', 'location': '114.464016,38.003882'}, {'name': '艺文画业字画装裱', 'location': '114.460676,38.001706'}, {'name': '中国联通(石家庄市红旗大街营业厅)', 'location': '114.459783,38.006268'}, {'name': '东五里小区', 'location': '114.458493,38.002721'}, {'name': '荣盛公馆售楼处', 'location': '114.459175,38.002083'}, {'name': '中国福利彩票(古韵文化广场店)', 'location': '114.460331,38.001654'}, {'name': '中国移动(石家庄师大汇华北营业厅)', 'location': '114.459817,38.006355'}, {'name': '成老灶火锅鸡(总店)', 'location': '114.457857,38.004185'}, {'name': '沧州火锅鸡(南二环西路辅路店)', 'location': '114.457832,38.004218'}, {'name': '汉堡王(汇华广场店)', 'location': '114.459808,38.006517'}, {'name': '荣盛城售楼中心', 'location': '114.459333,38.001766'}, {'name': '東更道点心行(汇华广场店)', 'location': '114.459819,38.006658'}, {'name': '古韵文化广场A座', 'location': '114.460364,38.001358'}, {'name': '河北经贸大学经济管理学院女生公寓', 'location': '114.458624,38.006110'}, {'name': '中通快递', 'location': '114.462675,38.006575'}, {'name': '服务快递中心', 'location': '114.462675,38.006575'}, {'name': '学霸炸姬(汇华学院店)', 'location': '114.462675,38.006584'}, {'name': '学校中心快递站', 'location': '114.462677,38.006586'}, {'name': '菜鸟驿站(西五里五星花园东区店)', 'location': '114.457330,38.003980'}, {'name': '不繁广告', 'location': '114.460255,38.001200'}, {'name': '工会户外劳动者驿站(汇宁街)', 'location': '114.463844,38.002027'}, {'name': '周黑鸭(汇华广场店)', 'location': '114.459829,38.006933'}, {'name': '童话王子·生日蛋糕(石家庄店)', 'location': '114.464713,38.004934'}, {'name': '殡葬用品(旭城花园旭雅园店)', 'location': '114.464879,38.004167'}, {'name': '旭城花园旭雅园', 'location': '114.464691,38.002996'}, {'name': '丰巢柜', 'location': '114.464823,38.004917'}, {'name': '日昌画廊', 'location': '114.460321,38.001002'}, {'name': '中国福利彩票(旭城花园店)', 'location': '114.465010,38.004174'}, {'name': '中国体育彩票(旭城花园店)', 'location': '114.465025,38.004169'}]\n"
     ]
    }
   ],
   "execution_count": 3
  }
 ],
 "metadata": {
  "kernelspec": {
   "display_name": "Python 3",
   "language": "python",
   "name": "python3"
  },
  "language_info": {
   "codemirror_mode": {
    "name": "ipython",
    "version": 2
   },
   "file_extension": ".py",
   "mimetype": "text/x-python",
   "name": "python",
   "nbconvert_exporter": "python",
   "pygments_lexer": "ipython2",
   "version": "2.7.6"
  }
 },
 "nbformat": 4,
 "nbformat_minor": 5
}
