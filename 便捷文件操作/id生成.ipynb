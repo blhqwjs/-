{
 "cells": [
  {
   "metadata": {
    "collapsed": true,
    "ExecuteTime": {
     "end_time": "2024-12-31T08:56:52.251260Z",
     "start_time": "2024-12-31T08:56:52.075073Z"
    }
   },
   "cell_type": "code",
   "source": [
    "import pandas as pd\n",
    "from datetime import datetime\n",
    "\n",
    "# 从 Excel 读取日期数据\n",
    "input_file = \"data/活动数据（附加比赛）--真实数据.xlsx\"  # 修改为你的 Excel 文件路径\n",
    "df = pd.read_excel(input_file)\n",
    "\n",
    "# 日期列是 'date' 列，时间戳格式\n",
    "df['date'] = pd.to_datetime(df['date'])  # 将日期列转换为 datetime 类型\n",
    "\n",
    "# 函数：根据日期生成11位 ID\n",
    "def generate_id(date_obj, counter):\n",
    "    # 将日期格式转化为 'YYYYMMDD'\n",
    "    date_formatted = date_obj.strftime(\"%Y%m%d\")\n",
    "    \n",
    "    # 返回日期 + 自增序列号（确保总长度为 11 位）\n",
    "    return date_formatted + str(counter).zfill(3)\n",
    "\n",
    "# 初始化 ID 列表\n",
    "ids = []\n",
    "date_counter = {}  # 用来记录每个日期对应的自增计数器\n",
    "\n",
    "# 为每个日期生成唯一的 ID\n",
    "for date in df['date']:\n",
    "    date_str = date.strftime('%Y/%m/%d')  # 将 datetime 转为字符串 'YYYY/MM/DD'\n",
    "    \n",
    "    if date_str not in date_counter:\n",
    "        date_counter[date_str] = 1\n",
    "    else:\n",
    "        date_counter[date_str] += 1\n",
    "    \n",
    "    # 生成 ID\n",
    "    unique_id = generate_id(date, date_counter[date_str])\n",
    "    ids.append(unique_id)\n",
    "\n",
    "# 将生成的 ID 添加到 DataFrame\n",
    "df['id'] = ids\n",
    "\n",
    "# 输出生成的 ID\n",
    "print(df[['date', 'id']])\n",
    "\n",
    "# 保存结果到 Excel 文件\n",
    "output_file = \"data/活动数据（附加比赛）--真实数据.xlsx\"\n",
    "df.to_excel(output_file, index=False)\n",
    "print(f\"ID 已保存到 {output_file}\")\n"
   ],
   "id": "initial_id",
   "outputs": [
    {
     "name": "stdout",
     "output_type": "stream",
     "text": [
      "          date           id\n",
      "0   2021-12-19  20211219001\n",
      "1   2024-01-02  20240102001\n",
      "2   2024-02-08  20240208001\n",
      "3   2024-08-16  20240816001\n",
      "4   2023-12-27  20231227001\n",
      "..         ...          ...\n",
      "171 2021-11-11  20211111001\n",
      "172 2021-11-01  20211101001\n",
      "173 2021-10-04  20211004001\n",
      "174 2021-10-04  20211004002\n",
      "175 2021-10-06  20211006001\n",
      "\n",
      "[176 rows x 2 columns]\n",
      "ID 已保存到 data/活动数据（附加比赛）--真实数据.xlsx\n"
     ]
    }
   ],
   "execution_count": 7
  }
 ],
 "metadata": {
  "kernelspec": {
   "display_name": "Python 3",
   "language": "python",
   "name": "python3"
  },
  "language_info": {
   "codemirror_mode": {
    "name": "ipython",
    "version": 2
   },
   "file_extension": ".py",
   "mimetype": "text/x-python",
   "name": "python",
   "nbconvert_exporter": "python",
   "pygments_lexer": "ipython2",
   "version": "2.7.6"
  }
 },
 "nbformat": 4,
 "nbformat_minor": 5
}
