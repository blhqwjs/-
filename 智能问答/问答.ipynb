{
 "cells": [
  {
   "metadata": {},
   "cell_type": "markdown",
   "source": "## 智能问答，相关设计",
   "id": "63033a8330b8f29f"
  },
  {
   "metadata": {},
   "cell_type": "markdown",
   "source": [
    "#### 1、数据清洗和规范化，\n",
    "1.1转换为json格式"
   ],
   "id": "47ee9a9323a8215c"
  },
  {
   "cell_type": "code",
   "id": "initial_id",
   "metadata": {
    "collapsed": true,
    "ExecuteTime": {
     "end_time": "2024-11-01T07:48:23.036523Z",
     "start_time": "2024-11-01T07:48:16.670864Z"
    }
   },
   "source": [
    "import pandas as pd\n",
    "import jieba\n",
    "import json\n",
    "\n",
    "# 读取数据\n",
    "data = pd.read_excel(\"校园新闻.xlsx\", sheet_name=\"Sheet1\")\n",
    "\n",
    "# 清理空白和重复行\n",
    "data = data.dropna().drop_duplicates()\n",
    "\n",
    "# 基于标题生成简单问题\n",
    "def generate_question(row):\n",
    "    title = row[\"新闻标题\"]\n",
    "    question = f\"{title} 是啥情况？\"\n",
    "    return question\n",
    "\n",
    "# 生成问题列\n",
    "data[\"生成的问题\"] = data.apply(generate_question, axis=1)\n",
    "\n",
    "# 使用 jieba 对问题和内容进行分词\n",
    "data[\"分词问题\"] = data[\"生成的问题\"].apply(lambda x: \" \".join(jieba.cut(x)))\n",
    "data[\"分词答案\"] = data[\"新闻内容\"].apply(lambda x: \" \".join(jieba.cut(x)))\n",
    "\n",
    "# 转换为适合模型训练的 JSON 格式\n",
    "train_data = data[[\"分词问题\", \"分词答案\"]].rename(columns={\"分词问题\": \"question\", \"分词答案\": \"answer\"})\n",
    "train_data_list = train_data.to_dict(orient=\"records\")\n",
    "\n",
    "# 将训练数据保存为 JSON 文件\n",
    "with open(\"train_data.json\", \"w\", encoding=\"utf-8\") as f:\n",
    "    json.dump(train_data_list, f, ensure_ascii=False, indent=4)\n",
    "\n",
    "print(\"训练数据已成功保存为 train_data.json 格式（分词处理）\")\n"
   ],
   "outputs": [
    {
     "name": "stderr",
     "output_type": "stream",
     "text": [
      "Building prefix dict from the default dictionary ...\n",
      "Dumping model to file cache C:\\Users\\blhq\\AppData\\Local\\Temp\\jieba.cache\n",
      "Loading model cost 0.912 seconds.\n",
      "Prefix dict has been built successfully.\n"
     ]
    },
    {
     "name": "stdout",
     "output_type": "stream",
     "text": [
      "训练数据已成功保存为 train_data.json 格式（分词处理）\n"
     ]
    }
   ],
   "execution_count": 2
  },
  {
   "metadata": {},
   "cell_type": "markdown",
   "source": [
    "#### 1.2设置截断词汇\n",
    "效果一般"
   ],
   "id": "f055416f95d7bef6"
  },
  {
   "metadata": {
    "ExecuteTime": {
     "end_time": "2024-11-01T07:51:38.855156Z",
     "start_time": "2024-11-01T07:51:33.736633Z"
    }
   },
   "cell_type": "code",
   "source": [
    "import pandas as pd\n",
    "import jieba\n",
    "import json\n",
    "\n",
    "# 读取数据\n",
    "data = pd.read_excel(\"校园新闻.xlsx\", sheet_name=\"Sheet1\")\n",
    "\n",
    "# 清理空白和重复行\n",
    "data = data.dropna().drop_duplicates()\n",
    "\n",
    "# 基于标题生成简单问题\n",
    "def generate_question(row):\n",
    "    title = row[\"新闻标题\"]\n",
    "    question = f\"{title} 是啥情况？\"\n",
    "    return question\n",
    "\n",
    "# 生成问题列\n",
    "data[\"生成的问题\"] = data.apply(generate_question, axis=1)\n",
    "\n",
    "# 定义一个函数在遇到 \"供稿\" 时截断新闻内容\n",
    "def truncate_content(content):\n",
    "    stop_word = \"（供稿\"\n",
    "    truncated_content = content.split(stop_word)[0]  # 截断“供稿”之后的内容\n",
    "    return truncated_content\n",
    "\n",
    "# 先对新闻内容进行截断，再分词\n",
    "data[\"截断内容\"] = data[\"新闻内容\"].apply(truncate_content)\n",
    "data[\"分词答案\"] = data[\"截断内容\"].apply(lambda x: \" \".join(jieba.cut(x)))\n",
    "\n",
    "# 对生成的问题进行分词\n",
    "data[\"分词问题\"] = data[\"生成的问题\"].apply(lambda x: \" \".join(jieba.cut(x)))\n",
    "\n",
    "# 将分词后的问答对转换为适合模型训练的 JSON 格式\n",
    "train_data = data[[\"分词问题\", \"分词答案\"]].rename(columns={\"分词问题\": \"question\", \"分词答案\": \"answer\"})\n",
    "train_data_list = train_data.to_dict(orient=\"records\")\n",
    "\n",
    "# 将训练数据保存为 JSON 文件\n",
    "with open(\"train_data.json\", \"w\", encoding=\"utf-8\") as f:\n",
    "    json.dump(train_data_list, f, ensure_ascii=False, indent=4)\n",
    "\n",
    "print(\"训练数据已成功保存为 train_data.json 格式（截断处理后）\")\n"
   ],
   "id": "bc153bf90d3cc168",
   "outputs": [
    {
     "name": "stdout",
     "output_type": "stream",
     "text": [
      "训练数据已成功保存为 train_data.json 格式（截断处理后）\n"
     ]
    }
   ],
   "execution_count": 4
  },
  {
   "metadata": {},
   "cell_type": "markdown",
   "source": [
    "#### 1.3正则筛选，去除括号内的数据\n",
    "效果可行"
   ],
   "id": "bc54d5903fe6af6a"
  },
  {
   "metadata": {
    "ExecuteTime": {
     "end_time": "2024-11-01T07:55:22.237400Z",
     "start_time": "2024-11-01T07:55:17.448929Z"
    }
   },
   "cell_type": "code",
   "source": [
    "import pandas as pd\n",
    "import jieba\n",
    "import json\n",
    "import re\n",
    "\n",
    "# 读取数据\n",
    "data = pd.read_excel(\"校园新闻.xlsx\", sheet_name=\"Sheet1\")\n",
    "\n",
    "# 清理空白和重复行\n",
    "data = data.dropna().drop_duplicates()\n",
    "\n",
    "# 去除括号及括号内的内容\n",
    "def remove_parentheses(text):\n",
    "    # 去除中英文括号内的内容\n",
    "    return re.sub(r\"\\(.*?\\)|（.*?）\", \"\", text)\n",
    "\n",
    "# 清理数据中的标题和内容\n",
    "data[\"新闻标题\"] = data[\"新闻标题\"].apply(remove_parentheses)\n",
    "data[\"新闻内容\"] = data[\"新闻内容\"].apply(remove_parentheses)\n",
    "\n",
    "# 基于标题生成简单问题\n",
    "def generate_question(row):\n",
    "    title = row[\"新闻标题\"]\n",
    "    question = f\"{title} 是啥情况？\"\n",
    "    return question\n",
    "\n",
    "# 生成问题列\n",
    "data[\"生成的问题\"] = data.apply(generate_question, axis=1)\n",
    "\n",
    "# 截断内容到 \"供稿\" 之前\n",
    "def truncate_content(content):\n",
    "    stop_word = \"供稿\"\n",
    "    truncated_content = content.split(stop_word)[0]\n",
    "    return truncated_content\n",
    "\n",
    "# 对新闻内容进行截断和分词\n",
    "data[\"截断内容\"] = data[\"新闻内容\"].apply(truncate_content)\n",
    "data[\"分词答案\"] = data[\"截断内容\"].apply(lambda x: \" \".join(jieba.cut(x)))\n",
    "\n",
    "# 对生成的问题进行分词\n",
    "data[\"分词问题\"] = data[\"生成的问题\"].apply(lambda x: \" \".join(jieba.cut(x)))\n",
    "\n",
    "# 将分词后的问答对转换为适合模型训练的 JSON 格式\n",
    "train_data = data[[\"分词问题\", \"分词答案\"]].rename(columns={\"分词问题\": \"question\", \"分词答案\": \"answer\"})\n",
    "train_data_list = train_data.to_dict(orient=\"records\")\n",
    "\n",
    "# 将训练数据保存为 JSON 文件\n",
    "with open(\"问答对/学校新闻问答对.json\", \"w\", encoding=\"utf-8\") as f:\n",
    "    json.dump(train_data_list, f, ensure_ascii=False, indent=4)\n",
    "\n",
    "print(\"训练数据已成功保存为 学校新闻问答对.json 格式（去除括号内容）\")\n"
   ],
   "id": "e1e2c4d1b5b851ff",
   "outputs": [
    {
     "name": "stdout",
     "output_type": "stream",
     "text": [
      "训练数据已成功保存为 train_data.json 格式（去除括号内容）\n"
     ]
    }
   ],
   "execution_count": 6
  },
  {
   "metadata": {},
   "cell_type": "markdown",
   "source": "#### 1.4 基于时间来分类新闻",
   "id": "b70a2a11871dac13"
  },
  {
   "metadata": {
    "ExecuteTime": {
     "end_time": "2024-11-01T08:06:09.111971Z",
     "start_time": "2024-11-01T08:06:08.170677Z"
    }
   },
   "cell_type": "code",
   "source": [
    "import pandas as pd\n",
    "import jieba\n",
    "import json\n",
    "import re\n",
    "from datetime import datetime\n",
    "\n",
    "# 读取数据\n",
    "data = pd.read_excel(\"校园新闻.xlsx\", sheet_name=\"Sheet1\")\n",
    "\n",
    "# 清理空白和重复行\n",
    "data = data.dropna().drop_duplicates()\n",
    "\n",
    "# 去除括号及括号内的内容\n",
    "def remove_parentheses(text):\n",
    "    return re.sub(r\"\\(.*?\\)|（.*?）\", \"\", text)\n",
    "\n",
    "# 清理数据中的标题和内容\n",
    "data[\"新闻标题\"] = data[\"新闻标题\"].apply(remove_parentheses)\n",
    "\n",
    "# 提取并格式化发布时间\n",
    "data[\"发布日期\"] = pd.to_datetime(data[\"新闻时间\"], errors='coerce')  # 将字符串转换为日期格式\n",
    "data[\"月份\"] = data[\"发布日期\"].dt.strftime(\"%Y年%m月\")  # 提取年月\n",
    "\n",
    "# 基于发布日期生成问题和答案\n",
    "def generate_question_answer(row):\n",
    "    month = row[\"月份\"]\n",
    "    title = row[\"新闻标题\"]\n",
    "    question = f\"{month} 学校有什么新闻？\"\n",
    "    answer = title  # 回答用标题即可\n",
    "    return pd.Series([question, answer])\n",
    "\n",
    "# 生成问答对列\n",
    "data[[\"分组问题\", \"分组答案\"]] = data.apply(generate_question_answer, axis=1)\n",
    "\n",
    "# 对生成的问题进行分词\n",
    "data[\"分词问题\"] = data[\"分组问题\"].apply(lambda x: \" \".join(jieba.cut(x)))\n",
    "data[\"分词答案\"] = data[\"分组答案\"].apply(lambda x: \" \".join(jieba.cut(x)))\n",
    "\n",
    "# 转换为适合模型训练的 JSON 格式\n",
    "train_data = data[[\"分词问题\", \"分词答案\"]].rename(columns={\"分词问题\": \"question\", \"分词答案\": \"answer\"})\n",
    "train_data_list = train_data.to_dict(orient=\"records\")\n",
    "\n",
    "# 保存训练数据为 JSON 文件\n",
    "with open(\"问答对/新闻时间分布问答对.json\", \"w\", encoding=\"utf-8\") as f:\n",
    "    json.dump(train_data_list, f, ensure_ascii=False, indent=4)\n",
    "\n",
    "print(\"按月份分类的新闻问答对已成功保存为 新闻时间分布.json \")\n"
   ],
   "id": "a1aada2d988de1c4",
   "outputs": [
    {
     "name": "stdout",
     "output_type": "stream",
     "text": [
      "按月份分类的新闻问答对已成功保存为 新闻时间分布.json \n"
     ]
    }
   ],
   "execution_count": 7
  },
  {
   "metadata": {},
   "cell_type": "markdown",
   "source": "#### 1.5 后续的问答对",
   "id": "aba9a320950e17dc"
  },
  {
   "metadata": {
    "ExecuteTime": {
     "end_time": "2024-11-01T10:28:12.213177Z",
     "start_time": "2024-11-01T10:28:12.126094Z"
    }
   },
   "cell_type": "code",
   "source": [
    "import pandas as pd\n",
    "import jieba\n",
    "import json\n",
    "import re\n",
    "from datetime import datetime\n",
    "excelName = \"校园成果和文章汇总.xlsx\" #表格名称\n",
    "sheetName = \"校园成果\"  # 表格内容\n",
    "Title = \"成果标题\"  # 初步问题\n",
    "Introduce = \"具体描述\" # 答案\n",
    "Time = \"展示时间\" \n",
    "# 读取数据\n",
    "data = pd.read_excel(excelName, sheet_name=sheetName)\n",
    "\n",
    "# 清理空白和重复行\n",
    "data = data.dropna().drop_duplicates()\n",
    "# 清理数据中的标题和内容\n",
    "data[\"标题\"] = data[Title]\n",
    "# 通知标题1：为本区域专用的\n",
    "\n",
    "# 提取并格式化发布时间\n",
    "data[\"日期\"] = pd.to_datetime(data[Time], errors='coerce')  # 将字符串转换为日期格式\n",
    "data[\"月份\"] = data[\"日期\"].dt.strftime(\"%Y年%m月\")  # 提取年月\n",
    "\n",
    "# 基于发布日期生成问题和答案\n",
    "def generate_question_answer(row):\n",
    "    month = row[\"月份\"]\n",
    "    title = row[\"标题\"]\n",
    "    question = f\"{month} 学校有取得什么成果或成绩吗？\"\n",
    "    answer = f\"有的，比如：{title}\"\n",
    "    return pd.Series([question, answer])\n",
    "\n",
    "# 生成问答对列\n",
    "data[[\"分组问题\", \"分组答案\"]] = data.apply(generate_question_answer, axis=1)\n",
    "\n",
    "# 对生成的问题进行分词\n",
    "data[\"分词问题\"] = data[\"分组问题\"].apply(lambda x: \" \".join(jieba.cut(x)))\n",
    "data[\"分词答案\"] = data[\"分组答案\"].apply(lambda x: \" \".join(jieba.cut(x)))\n",
    "\n",
    "# 转换为适合模型训练的 JSON 格式\n",
    "train_data = data[[\"分词问题\", \"分词答案\"]].rename(columns={\"分词问题\": \"question\", \"分词答案\": \"answer\"})\n",
    "train_data_list = train_data.to_dict(orient=\"records\")\n",
    "\n",
    "# 保存训练数据为 JSON 文件\n",
    "with open(\"问答对/成果时间分布问答对.json\", \"w\", encoding=\"utf-8\") as f:\n",
    "    json.dump(train_data_list, f, ensure_ascii=False, indent=4)\n",
    "\n",
    "print(\"按月份分类的问答对已成功保存\")\n"
   ],
   "id": "d5ebbcb3d84390b5",
   "outputs": [
    {
     "name": "stdout",
     "output_type": "stream",
     "text": [
      "按月份分类的问答对已成功保存\n"
     ]
    }
   ],
   "execution_count": 33
  },
  {
   "metadata": {},
   "cell_type": "markdown",
   "source": "#### 1.6 通用问答对儿，自定义问题--答案格式",
   "id": "e4029fbf0760673"
  },
  {
   "metadata": {
    "ExecuteTime": {
     "end_time": "2024-11-01T10:32:18.490575Z",
     "start_time": "2024-11-01T10:32:17.765170Z"
    }
   },
   "cell_type": "code",
   "source": [
    "import pandas as pd\n",
    "import jieba\n",
    "import json\n",
    "import re\n",
    "excelName = \"校园成果和文章汇总.xlsx\" #表格名称\n",
    "sheetName = \"校园成果\"  # 表格内容\n",
    "Title = \"成果标题\"  # 初步问题\n",
    "Introduce = \"具体描述\" # 答案\n",
    "\n",
    "# 读取数据\n",
    "data = pd.read_excel(excelName, sheet_name=sheetName)\n",
    "\n",
    "# 清理空白和重复行\n",
    "data = data.dropna().drop_duplicates()\n",
    "\n",
    "# 去除括号及括号内的内容\n",
    "def remove_parentheses(text):\n",
    "    # 去除中英文括号内的内容\n",
    "    # return re.sub(r\"\\(.*?\\)|（.*?）\", \"\", text)\n",
    "    return re.sub(r\"\\【.*?\\】\", \"\", text)\n",
    "\n",
    "# 清理数据中的标题和内容\n",
    "# data[\"标题\"] = data[Title].apply(remove_parentheses)\n",
    "data[\"内容\"] = data[Introduce].apply(remove_parentheses)\n",
    "# 截断内容到 \"\" 之前\n",
    "def truncate_content(content):\n",
    "    stop_word = \"[\"\n",
    "    truncated_content = content.split(stop_word)[0]\n",
    "    return truncated_content\n",
    "\n",
    "data[\"标题\"] = data[Title]\n",
    "# data[\"内容\"] = data[Introduce]  \n",
    "# data[\"内容\"] = data[Introduce].apply(truncate_content)\n",
    "\n",
    "# 基于发布日期生成问题和答案\n",
    "def generate_question_answer(row):\n",
    "    title = row[\"标题\"]\n",
    "    answer = row[\"内容\"]\n",
    "    question = f\"{title}，展开详细说说？\"\n",
    "    answer = f\"以下是获取到的相关信息，{answer}\"\n",
    "    return pd.Series([question, answer])\n",
    "\n",
    "# 生成问答对列\n",
    "data[[\"分组问题\", \"分组答案\"]] = data.apply(generate_question_answer, axis=1)\n",
    "\n",
    "# 对新闻内容进行截断和分词\n",
    "# data[\"截断内容\"] = data[\"分组答案\"].apply(truncate_content)\n",
    "data[\"截断内容\"] = data[\"分组答案\"]\n",
    "data[\"分词答案\"] = data[\"截断内容\"].apply(lambda x: \" \".join(jieba.cut(x)))\n",
    "\n",
    "# 对生成的问题进行分词\n",
    "data[\"分词问题\"] = data[\"分组问题\"].apply(lambda x: \" \".join(jieba.cut(x)))\n",
    "\n",
    "# 将分词后的问答对转换为适合模型训练的 JSON 格式\n",
    "train_data = data[[\"分词问题\", \"分词答案\"]].rename(columns={\"分词问题\": \"question\", \"分词答案\": \"answer\"})\n",
    "train_data_list = train_data.to_dict(orient=\"records\")\n",
    "\n",
    "# 将训练数据保存为 JSON 文件\n",
    "with open(\"问答对/学校成果问答对.json\", \"w\", encoding=\"utf-8\") as f:\n",
    "    json.dump(train_data_list, f, ensure_ascii=False, indent=4)\n",
    "\n",
    "print(\"训练数据已成功保存为 问答对.json 格式\")\n"
   ],
   "id": "67be51b470525e8e",
   "outputs": [
    {
     "name": "stdout",
     "output_type": "stream",
     "text": [
      "训练数据已成功保存为 问答对.json 格式\n"
     ]
    }
   ],
   "execution_count": 34
  },
  {
   "metadata": {},
   "cell_type": "markdown",
   "source": "",
   "id": "1cb0d9436359709"
  },
  {
   "metadata": {},
   "cell_type": "markdown",
   "source": "### 2、json转JSONL文件",
   "id": "560256597619283a"
  },
  {
   "metadata": {
    "ExecuteTime": {
     "end_time": "2024-11-02T01:34:10.375908Z",
     "start_time": "2024-11-02T01:34:10.203859Z"
    }
   },
   "cell_type": "code",
   "source": [
    "import json\n",
    "JSON_Path = \"问答对/所有的.json\"\n",
    "# 读取 JSON 文件\n",
    "with open(JSON_Path, \"r\", encoding=\"utf-8\") as f:\n",
    "    data = json.load(f)\n",
    "\n",
    "# 将数据写入 JSONL 文件\n",
    "with open(\"学校数据.jsonl\", \"w\", encoding=\"utf-8\") as f:\n",
    "    for record in data:\n",
    "        f.write(json.dumps(record, ensure_ascii=False) + \"\\n\")\n",
    "\n",
    "print(\"JSON 文件已成功转换为 JSONL 格式\")\n"
   ],
   "id": "a1c007aeb5342920",
   "outputs": [
    {
     "name": "stdout",
     "output_type": "stream",
     "text": [
      "JSON 文件已成功转换为 JSONL 格式\n"
     ]
    }
   ],
   "execution_count": 1
  },
  {
   "metadata": {},
   "cell_type": "markdown",
   "source": "#### 2.1内容格式化",
   "id": "b7dfbdc3c99f2127"
  },
  {
   "metadata": {
    "ExecuteTime": {
     "end_time": "2024-11-02T01:38:24.379395Z",
     "start_time": "2024-11-02T01:38:24.139618Z"
    }
   },
   "cell_type": "code",
   "source": [
    "import json\n",
    "JSON_Path = \"问答对/所有的.json\"\n",
    "# 读取数据\n",
    "with open(JSON_Path, \"r\", encoding=\"utf-8\") as f:\n",
    "    data = json.load(f)\n",
    "\n",
    "# 准备存储转换后的数据\n",
    "formatted_data = []\n",
    "\n",
    "# 生成所需的结构化数据\n",
    "for item in data:\n",
    "    record = {\n",
    "        \"messages\": [\n",
    "            {\"role\": \"system\", \"content\": \"河北经贸大学AI助手。\"},\n",
    "            {\"role\": \"user\", \"content\": item[\"question\"]},\n",
    "            {\"role\": \"assistant\", \"content\": item[\"answer\"]}\n",
    "        ]\n",
    "    }\n",
    "    formatted_data.append(record)\n",
    "\n",
    "# 保存为 JSONL 文件，每行一条记录\n",
    "with open(\"formatted_data.jsonl\", \"w\", encoding=\"utf-8\") as f:\n",
    "    for record in formatted_data:\n",
    "        f.write(json.dumps(record, ensure_ascii=False) + \"\\n\")\n",
    "\n",
    "print(\"数据已成功转换并保存为 JSONL 格式\")\n"
   ],
   "id": "d8b99504155e5d34",
   "outputs": [
    {
     "name": "stdout",
     "output_type": "stream",
     "text": [
      "数据已成功转换并保存为 JSONL 格式\n"
     ]
    }
   ],
   "execution_count": 2
  },
  {
   "metadata": {},
   "cell_type": "markdown",
   "source": "## 以下是模型使用",
   "id": "7b6491b15a74b652"
  },
  {
   "metadata": {
    "ExecuteTime": {
     "end_time": "2024-11-02T03:33:52.323215Z",
     "start_time": "2024-11-02T03:33:50.841747Z"
    }
   },
   "cell_type": "code",
   "source": [
    "# pip install zhipuai 请先在终端进行安装\n",
    "\n",
    "from zhipuai import ZhipuAI\n",
    "\n",
    "client = ZhipuAI(api_key=\"03a8fac73d39a40ad214d34320e41b1c.KA2l6w0UZwaThLjg\")\n",
    "\n",
    "response = client.chat.completions.create(\n",
    "    model=\"glm-4-flash:1851242649:wjs1211:wjyavvqu\",\n",
    "    messages=[\n",
    "        {\n",
    "            \"role\": \"system\",\n",
    "            \"content\": \"你是一个乐于解答各种问题的助手，你的任务是为用户提供专业、准确、有见地的建议。\" \n",
    "        },\n",
    "        {\n",
    "            \"role\": \"user\",\n",
    "            \"content\": \"2024 年 10 月   学校 有 什么 通知 ？？\"\n",
    "        }\n",
    "    ],\n",
    "    top_p= 0.7,\n",
    "    temperature= 0.95,\n",
    "    max_tokens=1024,\n",
    "    tools = [{\"type\":\"web_search\",\"web_search\":{\"search_result\":True}}],\n",
    "    stream=False\n",
    ")\n",
    "\n",
    "answer_content = response.choices[0].message.content\n",
    "print(\"助手回答:\", answer_content)\n",
    "# print(response[0].message.content)\n",
    "# for trunk in response:\n",
    "#     print(trunk)"
   ],
   "id": "1ed6af4ce665f849",
   "outputs": [
    {
     "name": "stdout",
     "output_type": "stream",
     "text": [
      "助手回答: 很抱歉，由于我无法访问实时数据或特定学校的通知系统，我无法提供2024年10月某学校具体的通知内容。通常，学校的重要通知会通过官方渠道发布，比如学校网站、校园公告栏、电子邮件或学生管理系统。建议您直接访问您所在学校的官方网站或联系学校相关部门获取最新的通知信息。\n"
     ]
    }
   ],
   "execution_count": 12
  },
  {
   "metadata": {
    "ExecuteTime": {
     "end_time": "2024-11-02T03:24:42.267459Z",
     "start_time": "2024-11-02T03:24:36.711915Z"
    }
   },
   "cell_type": "code",
   "source": [
    "from zhipuai import ZhipuAI\n",
    "\n",
    "client = ZhipuAI(api_key=\"03a8fac73d39a40ad214d34320e41b1c.KA2l6w0UZwaThLjg\")\n",
    "\n",
    "# 系统初始化消息\n",
    "messages = [\n",
    "    {\n",
    "        \"role\": \"system\",\n",
    "        \"content\": \"你是一个乐于解答各种问题的助手，你的任务是为用户提供专业、准确、有见地的建议。\" \n",
    "    }\n",
    "]\n",
    "\n",
    "while True:\n",
    "    # 获取用户输入\n",
    "    user_input = input(\"你想问什么？ (输入'退出'结束): \")\n",
    "    \n",
    "    if user_input.lower() == '退出':\n",
    "        print(\"程序结束。\")\n",
    "        break\n",
    "\n",
    "    # 将用户输入添加到消息列表\n",
    "    messages.append({\"role\": \"user\", \"content\": user_input})\n",
    "\n",
    "    # 调用API获取响应\n",
    "    response = client.chat.completions.create(\n",
    "        model=\"glm-4-flash:1851242649:wjs1211:wjyavvqu\",\n",
    "        messages=messages,\n",
    "        top_p=0.7,\n",
    "        temperature=0.95,\n",
    "        max_tokens=1024,\n",
    "        tools=[{\"type\": \"web_search\", \"web_search\": {\"search_result\": True}}],\n",
    "        # stream=True\n",
    "        stream=False\n",
    "    )\n",
    "    answer = response['choices'][0]['message']['content']\n",
    "    \n",
    "    print(\"助手回答:\", answer)\n",
    "\n",
    "    # 打印每个响应块\n",
    "    # for trunk in response:\n",
    "    #     print(trunk)\n",
    "\n",
    "    # 可以选择将助手的回复添加到消息列表，以便保持上下文\n",
    "    # messages.append({\"role\": \"assistant\", \"content\": response})\n"
   ],
   "id": "fd4ee82d94607b3a",
   "outputs": [
    {
     "ename": "TypeError",
     "evalue": "'Completion' object is not subscriptable",
     "output_type": "error",
     "traceback": [
      "\u001B[1;31m---------------------------------------------------------------------------\u001B[0m",
      "\u001B[1;31mTypeError\u001B[0m                                 Traceback (most recent call last)",
      "Cell \u001B[1;32mIn[7], line 35\u001B[0m\n\u001B[0;32m     24\u001B[0m \u001B[38;5;66;03m# 调用API获取响应\u001B[39;00m\n\u001B[0;32m     25\u001B[0m response \u001B[38;5;241m=\u001B[39m client\u001B[38;5;241m.\u001B[39mchat\u001B[38;5;241m.\u001B[39mcompletions\u001B[38;5;241m.\u001B[39mcreate(\n\u001B[0;32m     26\u001B[0m     model\u001B[38;5;241m=\u001B[39m\u001B[38;5;124m\"\u001B[39m\u001B[38;5;124mglm-4-flash:1851242649:wjs1211:wjyavvqu\u001B[39m\u001B[38;5;124m\"\u001B[39m,\n\u001B[0;32m     27\u001B[0m     messages\u001B[38;5;241m=\u001B[39mmessages,\n\u001B[1;32m   (...)\u001B[0m\n\u001B[0;32m     33\u001B[0m     stream\u001B[38;5;241m=\u001B[39m\u001B[38;5;28;01mFalse\u001B[39;00m\n\u001B[0;32m     34\u001B[0m )\n\u001B[1;32m---> 35\u001B[0m answer \u001B[38;5;241m=\u001B[39m \u001B[43mresponse\u001B[49m\u001B[43m[\u001B[49m\u001B[38;5;124;43m'\u001B[39;49m\u001B[38;5;124;43mchoices\u001B[39;49m\u001B[38;5;124;43m'\u001B[39;49m\u001B[43m]\u001B[49m[\u001B[38;5;241m0\u001B[39m][\u001B[38;5;124m'\u001B[39m\u001B[38;5;124mmessage\u001B[39m\u001B[38;5;124m'\u001B[39m][\u001B[38;5;124m'\u001B[39m\u001B[38;5;124mcontent\u001B[39m\u001B[38;5;124m'\u001B[39m]\n\u001B[0;32m     37\u001B[0m \u001B[38;5;28mprint\u001B[39m(\u001B[38;5;124m\"\u001B[39m\u001B[38;5;124m助手回答:\u001B[39m\u001B[38;5;124m\"\u001B[39m, answer)\n\u001B[0;32m     39\u001B[0m \u001B[38;5;66;03m# 打印每个响应块\u001B[39;00m\n\u001B[0;32m     40\u001B[0m \u001B[38;5;66;03m# for trunk in response:\u001B[39;00m\n\u001B[0;32m     41\u001B[0m \u001B[38;5;66;03m#     print(trunk)\u001B[39;00m\n\u001B[0;32m     42\u001B[0m \n\u001B[0;32m     43\u001B[0m \u001B[38;5;66;03m# 可以选择将助手的回复添加到消息列表，以便保持上下文\u001B[39;00m\n\u001B[0;32m     44\u001B[0m \u001B[38;5;66;03m# messages.append({\"role\": \"assistant\", \"content\": response})\u001B[39;00m\n",
      "\u001B[1;31mTypeError\u001B[0m: 'Completion' object is not subscriptable"
     ]
    }
   ],
   "execution_count": 7
  }
 ],
 "metadata": {
  "kernelspec": {
   "display_name": "Python 3",
   "language": "python",
   "name": "python3"
  },
  "language_info": {
   "codemirror_mode": {
    "name": "ipython",
    "version": 2
   },
   "file_extension": ".py",
   "mimetype": "text/x-python",
   "name": "python",
   "nbconvert_exporter": "python",
   "pygments_lexer": "ipython2",
   "version": "2.7.6"
  }
 },
 "nbformat": 4,
 "nbformat_minor": 5
}
